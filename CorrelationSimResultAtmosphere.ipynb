{
 "cells": [
  {
   "cell_type": "markdown",
   "metadata": {},
   "source": [
    "# View the result of many simulations"
   ]
  },
  {
   "cell_type": "code",
   "execution_count": 129,
   "metadata": {},
   "outputs": [],
   "source": [
    "import pandas as pd\n",
    "import numpy as np\n",
    "import os,sys\n",
    "import matplotlib.pyplot as plt\n",
    "from astropy.io import fits\n",
    "\n",
    "%matplotlib inline\n",
    "from IPython.display import Image, display\n",
    "from scipy.interpolate import interp1d"
   ]
  },
  {
   "cell_type": "code",
   "execution_count": 130,
   "metadata": {},
   "outputs": [],
   "source": [
    "import matplotlib.pyplot as plt\n",
    "plt.rcParams.update({'figure.max_open_warning': 0})"
   ]
  },
  {
   "cell_type": "code",
   "execution_count": 131,
   "metadata": {},
   "outputs": [],
   "source": [
    "# to enlarge the sizes\n",
    "params = {'legend.fontsize': 'x-large',\n",
    "          'figure.figsize': (10, 6),\n",
    "         'axes.labelsize': 'x-large',\n",
    "         'axes.titlesize':'x-large',\n",
    "         'xtick.labelsize':'x-large',\n",
    "         'ytick.labelsize':'x-large'}\n",
    "plt.rcParams.update(params)"
   ]
  },
  {
   "cell_type": "code",
   "execution_count": 132,
   "metadata": {},
   "outputs": [],
   "source": [
    "#import seaborn as sns"
   ]
  },
  {
   "cell_type": "code",
   "execution_count": 133,
   "metadata": {},
   "outputs": [],
   "source": [
    "#import statsmodels\n",
    "#from scipy.stats.stats import pearsonr\n",
    "#from sklearn.metrics import matthews_corrcoef"
   ]
  },
  {
   "cell_type": "code",
   "execution_count": 134,
   "metadata": {},
   "outputs": [],
   "source": [
    "#dir(matthews_corrcoef)"
   ]
  },
  {
   "cell_type": "code",
   "execution_count": 135,
   "metadata": {},
   "outputs": [],
   "source": [
    "from scipy.stats.stats import pearsonr\n",
    "#help(pearsonr)"
   ]
  },
  {
   "cell_type": "code",
   "execution_count": 136,
   "metadata": {},
   "outputs": [],
   "source": [
    "from scipy.stats import linregress"
   ]
  },
  {
   "cell_type": "markdown",
   "metadata": {},
   "source": [
    "# config LSST"
   ]
  },
  {
   "cell_type": "code",
   "execution_count": null,
   "metadata": {},
   "outputs": [],
   "source": []
  },
  {
   "cell_type": "code",
   "execution_count": 137,
   "metadata": {},
   "outputs": [],
   "source": [
    "all_filternum = {'u':1, 'g':2, 'r':3, 'i':4, 'z':5, 'y':6}\n",
    "all_filtercolors = {'u':'b', 'g':'g', 'r':'r', 'i':'y', 'z':'grey', 'y':'k'}\n",
    "all_filtername= ['u','g','r','i','z','y']"
   ]
  },
  {
   "cell_type": "code",
   "execution_count": 138,
   "metadata": {},
   "outputs": [],
   "source": [
    "NBFILT=len(all_filternum)"
   ]
  },
  {
   "cell_type": "markdown",
   "metadata": {},
   "source": [
    "# Input Data"
   ]
  },
  {
   "cell_type": "code",
   "execution_count": 139,
   "metadata": {},
   "outputs": [],
   "source": [
    "path_data=\"/sps/lsst/data/PCWG_MiniDataChallenge/pickles_uvk/2018-07-08/\""
   ]
  },
  {
   "cell_type": "code",
   "execution_count": 140,
   "metadata": {},
   "outputs": [],
   "source": [
    "dirs = os.listdir(path_data)"
   ]
  },
  {
   "cell_type": "code",
   "execution_count": 141,
   "metadata": {},
   "outputs": [],
   "source": [
    "selected_files = []\n",
    "for thefile in dirs:\n",
    "    if thefile.find(\"info\")!=-1:\n",
    "        selected_files.append(thefile)"
   ]
  },
  {
   "cell_type": "code",
   "execution_count": 142,
   "metadata": {},
   "outputs": [],
   "source": [
    "selected_files.sort()\n"
   ]
  },
  {
   "cell_type": "code",
   "execution_count": 143,
   "metadata": {},
   "outputs": [],
   "source": [
    "#selected_files"
   ]
  },
  {
   "cell_type": "code",
   "execution_count": 144,
   "metadata": {},
   "outputs": [],
   "source": [
    "all_data = []\n",
    "for thefile in selected_files:\n",
    "    thefullfilename=os.path.join(path_data,thefile)\n",
    "    data=np.loadtxt(thefullfilename)\n",
    "    all_data.append(data)"
   ]
  },
  {
   "cell_type": "code",
   "execution_count": 145,
   "metadata": {},
   "outputs": [
    {
     "data": {
      "text/plain": [
       "(912, 8)"
      ]
     },
     "execution_count": 145,
     "metadata": {},
     "output_type": "execute_result"
    }
   ],
   "source": [
    "all_data[0].shape"
   ]
  },
  {
   "cell_type": "code",
   "execution_count": 146,
   "metadata": {},
   "outputs": [],
   "source": [
    "sed_idx=0"
   ]
  },
  {
   "cell_type": "code",
   "execution_count": 147,
   "metadata": {},
   "outputs": [],
   "source": [
    "data=all_data[0]"
   ]
  },
  {
   "cell_type": "markdown",
   "metadata": {},
   "source": [
    "# data field\n",
    "| airmass    |    filter(1..6)  |  vaod   |  o3   |   pwv  |   clouds    |    instrum-mag (ADU) |       error-mag |"
   ]
  },
  {
   "cell_type": "code",
   "execution_count": 148,
   "metadata": {},
   "outputs": [],
   "source": [
    "df=pd.DataFrame(data)"
   ]
  },
  {
   "cell_type": "code",
   "execution_count": 149,
   "metadata": {},
   "outputs": [],
   "source": [
    "df.columns = ['am', 'f', 'vaod', 'ozone', 'pwv','clouds','mag','magerr']"
   ]
  },
  {
   "cell_type": "code",
   "execution_count": 178,
   "metadata": {},
   "outputs": [
    {
     "name": "stdout",
     "output_type": "stream",
     "text": [
      "airmass=1.22 $\\pm$ 0.13\n"
     ]
    },
    {
     "data": {
      "image/png": "[encoded data removed]",
      "text/plain": [
       "<matplotlib.figure.Figure at 0x7f8b97a85ef0>"
      ]
     },
     "metadata": {},
     "output_type": "display_data"
    }
   ],
   "source": [
    "m,sig,zmin,zmax=df[\"am\"].describe()[\"mean\"],df[\"am\"].describe()[\"std\"],df[\"am\"].describe()[\"min\"],df[\"am\"].describe()[\"max\"]\n",
    "thelabel=\"airmass={:3.2f} $\\pm$ {:3.2f}\".format(m,sig)\n",
    "axarr=df.hist(\"am\",bins=100,color='b',label=thelabel)\n",
    "#axarr = frame.hist(column='Age', by = 'Survived', sharex=True, sharey=True, layout = (2, 1))\n",
    "\n",
    "for ax in axarr.flatten():\n",
    "    ax.set_xlabel(\"airmass\")\n",
    "    ax.set_ylabel(\"nb of visits\")\n",
    "    ax.text((zmin+zmax)/2., 30, thelabel, ha='center',fontsize=18)\n",
    "print(thelabel)"
   ]
  },
  {
   "cell_type": "code",
   "execution_count": 179,
   "metadata": {},
   "outputs": [
    {
     "data": {
      "image/png": "[encoded data removed]",
      "text/plain": [
       "<matplotlib.figure.Figure at 0x7f8b9cb7d940>"
      ]
     },
     "metadata": {},
     "output_type": "display_data"
    }
   ],
   "source": [
    "axarr=df.hist(\"f\",bins=12,color='b')\n",
    "for ax in axarr.flatten():\n",
    "    ax.set_xlabel(\"Filter number\")\n",
    "    ax.set_ylabel(\"nb of visits\")"
   ]
  },
  {
   "cell_type": "code",
   "execution_count": 181,
   "metadata": {},
   "outputs": [
    {
     "data": {
      "image/png": "[encoded data removed]",
      "text/plain": [
       "<matplotlib.figure.Figure at 0x7f8b9cb895f8>"
      ]
     },
     "metadata": {},
     "output_type": "display_data"
    }
   ],
   "source": [
    "m,sig,amin,amax=df[\"vaod\"].describe()[\"mean\"],df[\"vaod\"].describe()[\"std\"],df[\"vaod\"].describe()[\"min\"],df[\"vaod\"].describe()[\"max\"]\n",
    "thelabel=\"vaod={:3.2f} $\\pm$ {:3.2f}\".format(m,sig)\n",
    "axarr=df.hist('vaod',bins=50,color='b')\n",
    "for ax in axarr.flatten():\n",
    "    ax.set_xlabel(\"vertical aerosol depth (vaod)\")\n",
    "    ax.set_ylabel(\"nb of visits\")\n",
    "    ax.text((amin+amax)/2.+0.02, 60, thelabel, ha='center',fontsize=18)"
   ]
  },
  {
   "cell_type": "code",
   "execution_count": 184,
   "metadata": {},
   "outputs": [
    {
     "data": {
      "image/png": "[encoded data removed]",
      "text/plain": [
       "<matplotlib.figure.Figure at 0x7f8b97609748>"
      ]
     },
     "metadata": {},
     "output_type": "display_data"
    }
   ],
   "source": [
    "m,sig,pmin,pmax=df[\"pwv\"].describe()[\"mean\"],df[\"pwv\"].describe()[\"std\"],df[\"pwv\"].describe()[\"min\"],df[\"pwv\"].describe()[\"max\"]\n",
    "thelabel=\"pwv={:3.2f} $\\pm$ {:3.2f} mm\".format(m,sig)\n",
    "axarr=df.hist('pwv',bins=50,color='b')\n",
    "for ax in axarr.flatten():\n",
    "    ax.set_xlabel(\"precipitable water vapor (pwv) in mm\")\n",
    "    ax.set_ylabel(\"nb of visits\")\n",
    "    ax.text((pmin+pmax)/2.+4, 70, thelabel, ha='center',fontsize=18)"
   ]
  },
  {
   "cell_type": "code",
   "execution_count": 188,
   "metadata": {},
   "outputs": [
    {
     "data": {
      "image/png": "[encoded data removed]",
      "text/plain": [
       "<matplotlib.figure.Figure at 0x7f8b97b51208>"
      ]
     },
     "metadata": {},
     "output_type": "display_data"
    }
   ],
   "source": [
    "m,sig,omin,omax=df[\"ozone\"].describe()[\"mean\"],df[\"ozone\"].describe()[\"std\"],df[\"ozone\"].describe()[\"min\"],df[\"ozone\"].describe()[\"max\"]\n",
    "thelabel=\"ozone={:3.2f} $\\pm$ {:3.2f} DbU\".format(m,sig)\n",
    "axarr=df.hist('ozone',bins=50,color='b')\n",
    "for ax in axarr.flatten():\n",
    "    ax.set_xlabel(\"ozone (DbU)\")\n",
    "    ax.set_ylabel(\"nb of visits\")\n",
    "    ax.text((omin+omax)/2.+30, 65, thelabel, ha='center',fontsize=18)"
   ]
  },
  {
   "cell_type": "code",
   "execution_count": 194,
   "metadata": {},
   "outputs": [
    {
     "data": {
      "image/png": "[encoded data removed]",
      "text/plain": [
       "<matplotlib.figure.Figure at 0x7f8b9c809fd0>"
      ]
     },
     "metadata": {},
     "output_type": "display_data"
    }
   ],
   "source": [
    "m,sig,cmin,cmax=df[\"clouds\"].describe()[\"mean\"],df[\"clouds\"].describe()[\"std\"],df[\"clouds\"].describe()[\"min\"],df[\"clouds\"].describe()[\"max\"]\n",
    "thelabel=\"grey transmission (clouds)={:3.2f} $\\pm$ {:3.2f}\".format(m,sig)\n",
    "axarr=df.hist('clouds',bins=50,color='b')\n",
    "for ax in axarr.flatten():\n",
    "    ax.set_xlabel(\"grey transmission\")\n",
    "    ax.set_ylabel(\"nb of visits\")\n",
    "    ax.set_yscale('log')\n",
    "    ax.text((cmin+cmax)/2.-0.1, 250, thelabel, ha='center',fontsize=18)"
   ]
  },
  {
   "cell_type": "code",
   "execution_count": 195,
   "metadata": {},
   "outputs": [
    {
     "data": {
      "image/png": "[encoded data removed]",
      "text/plain": [
       "<matplotlib.figure.Figure at 0x7f8b9c322828>"
      ]
     },
     "metadata": {},
     "output_type": "display_data"
    }
   ],
   "source": [
    "fig, axes = plt.subplots(nrows=2, ncols=3,figsize=(20,12))\n",
    "#airmasses\n",
    "#=========\n",
    "m,sig,zmin,zmax=df[\"am\"].describe()[\"mean\"],df[\"am\"].describe()[\"std\"],df[\"am\"].describe()[\"min\"],df[\"am\"].describe()[\"max\"]\n",
    "thelabel=\"airmass={:3.2f} $\\pm$ {:3.2f}\".format(m,sig)\n",
    "axarr=df.hist(\"am\",bins=100,color='r',alpha=0.9,label=thelabel,ax=axes[0,0])\n",
    "#axarr = frame.hist(column='Age', by = 'Survived', sharex=True, sharey=True, layout = (2, 1))\n",
    "for ax in axarr.flatten():\n",
    "    ax.set_xlabel(\"airmass\")\n",
    "    ax.set_ylabel(\"nb of visits\")\n",
    "    ax.text((zmin+zmax)/2., 30, thelabel, ha='center',fontsize=18)\n",
    "# VAOD\n",
    "#=-----\n",
    "m,sig,amin,amax=df[\"vaod\"].describe()[\"mean\"],df[\"vaod\"].describe()[\"std\"],df[\"vaod\"].describe()[\"min\"],df[\"vaod\"].describe()[\"max\"]\n",
    "thelabel=\"vaod={:3.2f} $\\pm$ {:3.2f}\".format(m,sig)\n",
    "axarr=df.hist('vaod',bins=50,color='b',ax=axes[0,1])\n",
    "for ax in axarr.flatten():\n",
    "    ax.set_xlabel(\"vertical aerosol depth (vaod)\")\n",
    "    ax.set_ylabel(\"nb of visits\")\n",
    "    ax.text((amin+amax)/2.+0.02, 60, thelabel, ha='center',fontsize=18)\n",
    "# PWV\n",
    "#-----\n",
    "m,sig,pmin,pmax=df[\"pwv\"].describe()[\"mean\"],df[\"pwv\"].describe()[\"std\"],df[\"pwv\"].describe()[\"min\"],df[\"pwv\"].describe()[\"max\"]\n",
    "thelabel=\"pwv={:3.2f} $\\pm$ {:3.2f} mm\".format(m,sig)\n",
    "axarr=df.hist('pwv',bins=50,color='b',ax=axes[0,2])\n",
    "for ax in axarr.flatten():\n",
    "    ax.set_xlabel(\"precipitable water vapor (pwv) in mm\")\n",
    "    ax.set_ylabel(\"nb of visits\")\n",
    "    ax.text((pmin+pmax)/2.+4, 70, thelabel, ha='center',fontsize=18)\n",
    "# Filter\n",
    "#------\n",
    "axarr=df.hist(\"f\",bins=12,color='r',alpha=0.9,ax=axes[1,0])\n",
    "for ax in axarr.flatten():\n",
    "    ax.set_xlabel(\"Filter number\")\n",
    "    ax.set_ylabel(\"nb of visits\")\n",
    "# Ozone\n",
    "#-------\n",
    "m,sig,omin,omax=df[\"ozone\"].describe()[\"mean\"],df[\"ozone\"].describe()[\"std\"],df[\"ozone\"].describe()[\"min\"],df[\"ozone\"].describe()[\"max\"]\n",
    "thelabel=\"ozone={:3.2f} $\\pm$ {:3.2f} DbU\".format(m,sig)\n",
    "axarr=df.hist('ozone',bins=50,color='b',ax=axes[1,1])\n",
    "for ax in axarr.flatten():\n",
    "    ax.set_xlabel(\"ozone (DbU)\")\n",
    "    ax.set_ylabel(\"nb of visits\")\n",
    "    ax.text((omin+omax)/2., 65, thelabel, ha='center',fontsize=18)\n",
    "# Clouds\n",
    "#-------\n",
    "m,sig,cmin,cmax=df[\"clouds\"].describe()[\"mean\"],df[\"clouds\"].describe()[\"std\"],df[\"clouds\"].describe()[\"min\"],df[\"clouds\"].describe()[\"max\"]\n",
    "thelabel=\"T(clouds)={:3.2f} $\\pm$ {:3.2f}\".format(m,sig)\n",
    "axarr=df.hist('clouds',bins=50,color='b',ax=axes[1,2])\n",
    "for ax in axarr.flatten():\n",
    "    ax.set_xlabel(\"grey transmission\")\n",
    "    ax.set_ylabel(\"nb of visits\")\n",
    "    ax.set_yscale('log')\n",
    "    ax.text((cmin+cmax)/2.-0.1, 250, thelabel, ha='center',fontsize=18)\n",
    "\n",
    "\n",
    "\n"
   ]
  },
  {
   "cell_type": "code",
   "execution_count": null,
   "metadata": {},
   "outputs": [],
   "source": [
    "df.hist('mag',bins=50)"
   ]
  },
  {
   "cell_type": "code",
   "execution_count": null,
   "metadata": {},
   "outputs": [],
   "source": [
    "#df.plot.scatter(x='mag',y='magerr',grid=True)"
   ]
  },
  {
   "cell_type": "code",
   "execution_count": null,
   "metadata": {},
   "outputs": [],
   "source": [
    "df.loc[(df.f == 1) & (df.f == 1)].plot.scatter(x='mag',y='magerr',title='err vs mag for filter 1',grid=True)"
   ]
  },
  {
   "cell_type": "code",
   "execution_count": null,
   "metadata": {},
   "outputs": [],
   "source": [
    "len(all_data)"
   ]
  },
  {
   "cell_type": "code",
   "execution_count": null,
   "metadata": {},
   "outputs": [],
   "source": [
    "NBSED=len(all_data)"
   ]
  },
  {
   "cell_type": "code",
   "execution_count": null,
   "metadata": {},
   "outputs": [],
   "source": []
  },
  {
   "cell_type": "markdown",
   "metadata": {},
   "source": [
    "# Concatenate All Data Samples"
   ]
  },
  {
   "cell_type": "code",
   "execution_count": null,
   "metadata": {},
   "outputs": [],
   "source": [
    "MAG_CUT=[-9.,-13.,-13.,-13.,-13.,-13.,-13.]"
   ]
  },
  {
   "cell_type": "code",
   "execution_count": null,
   "metadata": {},
   "outputs": [],
   "source": [
    "all_df = []\n",
    "for ised in np.arange(NBSED):\n",
    "    df2=pd.DataFrame(all_data[ised])\n",
    "    df2.columns = ['am', 'f', 'vaod', 'ozone', 'pwv','clouds','mag','magerr']\n",
    "    all_df.append(df2)   \n",
    "    #df2.loc[(df2.f == 1)].plot.scatter(x='mag',y='magerr',title='err vs mag for filter 1',grid=True)\n",
    "dft=pd.concat(all_df)\n"
   ]
  },
  {
   "cell_type": "markdown",
   "metadata": {},
   "source": [
    "# The Most bright sources"
   ]
  },
  {
   "cell_type": "code",
   "execution_count": null,
   "metadata": {},
   "outputs": [],
   "source": [
    "for ised in np.arange(NBSED):\n",
    "#for ised in np.arange(10):\n",
    "    thedf=pd.DataFrame(all_data[ised])\n",
    "    thedf.columns = ['am', 'f', 'vaod', 'ozone', 'pwv','clouds','mag','magerr']\n",
    "    #print(thedf)\n",
    "    themag=thedf[\"mag\"].values\n",
    "    thefilt=thedf[\"f\"].values\n",
    "    all_u_idx=np.where(thefilt==1)[0]\n",
    "    all_g_idx=np.where(thefilt==2)[0]\n",
    "    all_r_idx=np.where(thefilt==3)[0]\n",
    "    all_i_idx=np.where(thefilt==4)[0]\n",
    "    all_z_idx=np.where(thefilt==5)[0]\n",
    "    all_y_idx=np.where(thefilt==6)[0]\n",
    "    themax_u=themag[all_u_idx].max()\n",
    "    themax_g=themag[all_g_idx].max()\n",
    "    themax_r=themag[all_r_idx].max()\n",
    "    themax_i=themag[all_i_idx].max()\n",
    "    themax_z=themag[all_z_idx].max()\n",
    "    themax_y=themag[all_y_idx].max()\n",
    "    if  themax_u<MAG_CUT[0] and themax_g<MAG_CUT[1] and themax_r<MAG_CUT[2] and themax_i<MAG_CUT[3] and themax_z<MAG_CUT[4] and themax_y<MAG_CUT[5]: \n",
    "        print(ised,themax_u,themax_g,themax_r,themax_i,themax_z,themax_y)"
   ]
  },
  {
   "cell_type": "code",
   "execution_count": null,
   "metadata": {},
   "outputs": [],
   "source": [
    "thedf=pd.DataFrame(all_data[2113])\n",
    "thedf.columns = ['am', 'f', 'vaod', 'ozone', 'pwv','clouds','mag','magerr']"
   ]
  },
  {
   "cell_type": "code",
   "execution_count": null,
   "metadata": {},
   "outputs": [],
   "source": [
    "thedf.head()"
   ]
  },
  {
   "cell_type": "markdown",
   "metadata": {},
   "source": [
    "## In U filter\n",
    "## -------------"
   ]
  },
  {
   "cell_type": "code",
   "execution_count": null,
   "metadata": {},
   "outputs": [],
   "source": [
    "thedfu=thedf.loc[(thedf.f == 1)].drop('f', axis=1)"
   ]
  },
  {
   "cell_type": "code",
   "execution_count": null,
   "metadata": {},
   "outputs": [],
   "source": [
    "theX=thedfu[\"vaod\"].values\n",
    "theY=thedfu[\"mag\"].values\n",
    "theEY=thedfu[\"magerr\"].values\n",
    "thedfu.corr()"
   ]
  },
  {
   "cell_type": "code",
   "execution_count": null,
   "metadata": {},
   "outputs": [],
   "source": [
    "linregress(theX,theY)"
   ]
  },
  {
   "cell_type": "code",
   "execution_count": null,
   "metadata": {},
   "outputs": [],
   "source": [
    "theZ,theCov=np.polyfit(theX,theY,1,w=1/theEY,cov=True)\n",
    "pol = np.poly1d(theZ)\n",
    "Xfit=np.linspace(theX.min(),theX.max(),50)\n",
    "Yfit=pol(Xfit)"
   ]
  },
  {
   "cell_type": "code",
   "execution_count": null,
   "metadata": {},
   "outputs": [],
   "source": [
    "thedfu.plot.scatter(x='vaod',y='mag',yerr='magerr',title='vaod vs mag for filter u',color='b',marker='o',grid=True)\n",
    "plt.plot(Xfit,Yfit,'r-')"
   ]
  },
  {
   "cell_type": "code",
   "execution_count": null,
   "metadata": {},
   "outputs": [],
   "source": [
    "#print(theCov)"
   ]
  },
  {
   "cell_type": "code",
   "execution_count": null,
   "metadata": {},
   "outputs": [],
   "source": [
    "corr=thedfu.loc[(thedf.f == 1) ].corr()"
   ]
  },
  {
   "cell_type": "code",
   "execution_count": null,
   "metadata": {},
   "outputs": [],
   "source": [
    "plt.figure(figsize=(8, 6))\n",
    "plt.imshow(corr, cmap='hot', interpolation='none', aspect='auto',vmin=-1,vmax=+1)\n",
    "plt.colorbar()\n",
    "plt.xticks(range(len(corr)), corr.columns, rotation='vertical')\n",
    "plt.yticks(range(len(corr)), corr.columns);\n",
    "plt.suptitle('Correlation Matrix in U filter', fontsize=15, fontweight='bold')\n",
    "plt.show()"
   ]
  },
  {
   "cell_type": "code",
   "execution_count": null,
   "metadata": {},
   "outputs": [],
   "source": [
    "theX=thedfu[\"clouds\"].values\n",
    "theY=thedfu[\"mag\"].values\n",
    "theEY=thedfu[\"magerr\"].values\n",
    "thedfu.corr()"
   ]
  },
  {
   "cell_type": "code",
   "execution_count": null,
   "metadata": {},
   "outputs": [],
   "source": [
    "linregress(theX,theY)"
   ]
  },
  {
   "cell_type": "code",
   "execution_count": null,
   "metadata": {},
   "outputs": [],
   "source": [
    "theZ,theCov=np.polyfit(theX,theY,1,w=1/theEY,cov=True)\n",
    "pol = np.poly1d(theZ)\n",
    "Xfit=np.linspace(theX.min(),theX.max(),50)\n",
    "Yfit=pol(Xfit)"
   ]
  },
  {
   "cell_type": "code",
   "execution_count": null,
   "metadata": {},
   "outputs": [],
   "source": [
    "thedfu.plot.scatter(x='clouds',y='mag',yerr='magerr',title='clouds vs mag for filter u',color='b',marker='o',grid=True)\n",
    "plt.plot(Xfit,Yfit,'r-')"
   ]
  },
  {
   "cell_type": "markdown",
   "metadata": {},
   "source": [
    "## The G filter\n",
    "## -------------"
   ]
  },
  {
   "cell_type": "code",
   "execution_count": null,
   "metadata": {},
   "outputs": [],
   "source": [
    "thedfg=thedf.loc[(thedf.f == 2)].drop('f', axis=1)"
   ]
  },
  {
   "cell_type": "code",
   "execution_count": null,
   "metadata": {},
   "outputs": [],
   "source": [
    "theX=thedfg[\"vaod\"].values\n",
    "theY=thedfg[\"mag\"].values\n",
    "theEY=thedfg[\"magerr\"].values\n",
    "thedfg.corr()"
   ]
  },
  {
   "cell_type": "code",
   "execution_count": null,
   "metadata": {},
   "outputs": [],
   "source": [
    "linregress(theX,theY)"
   ]
  },
  {
   "cell_type": "code",
   "execution_count": null,
   "metadata": {},
   "outputs": [],
   "source": []
  },
  {
   "cell_type": "code",
   "execution_count": null,
   "metadata": {},
   "outputs": [],
   "source": [
    "theZ,theCov=np.polyfit(theX,theY,1,w=1/theEY,cov=True)\n",
    "pol = np.poly1d(theZ)\n",
    "Xfit=np.linspace(theX.min(),theX.max(),50)\n",
    "Yfit=pol(Xfit)"
   ]
  },
  {
   "cell_type": "code",
   "execution_count": null,
   "metadata": {},
   "outputs": [],
   "source": [
    "thedfg.plot.scatter(x='vaod',y='mag',yerr='magerr',title='vaod vs mag for filter g',color='g',marker='o',grid=True)\n",
    "plt.plot(Xfit,Yfit,'r-')"
   ]
  },
  {
   "cell_type": "code",
   "execution_count": null,
   "metadata": {},
   "outputs": [],
   "source": [
    "#thedf.loc[(thedf.f == 2) ].plot.scatter(x='vaod',y='mag',yerr='magerr',title='vaod vs mag for filter g',color='g',marker='o',grid=True)"
   ]
  },
  {
   "cell_type": "code",
   "execution_count": null,
   "metadata": {},
   "outputs": [],
   "source": [
    "corr=thedfg.loc[(thedf.f == 2) ].corr()"
   ]
  },
  {
   "cell_type": "code",
   "execution_count": null,
   "metadata": {},
   "outputs": [],
   "source": [
    "plt.figure(figsize=(8, 6))\n",
    "plt.imshow(corr, cmap='hot', interpolation='none', aspect='auto',vmin=-1,vmax=+1)\n",
    "plt.colorbar()\n",
    "plt.xticks(range(len(corr)), corr.columns, rotation='vertical')\n",
    "plt.yticks(range(len(corr)), corr.columns);\n",
    "plt.suptitle('Correlation Matrix in G filter', fontsize=15, fontweight='bold')\n",
    "plt.show()"
   ]
  },
  {
   "cell_type": "code",
   "execution_count": null,
   "metadata": {},
   "outputs": [],
   "source": [
    "theX=thedfg[\"clouds\"].values\n",
    "theY=thedfg[\"mag\"].values\n",
    "theEY=thedfg[\"magerr\"].values\n",
    "thedfg.corr()"
   ]
  },
  {
   "cell_type": "code",
   "execution_count": null,
   "metadata": {},
   "outputs": [],
   "source": [
    "linregress(theX,theY)"
   ]
  },
  {
   "cell_type": "code",
   "execution_count": null,
   "metadata": {},
   "outputs": [],
   "source": [
    "theZ,theCov=np.polyfit(theX,theY,1,w=1/theEY,cov=True)\n",
    "pol = np.poly1d(theZ)\n",
    "Xfit=np.linspace(theX.min(),theX.max(),50)\n",
    "Yfit=pol(Xfit)"
   ]
  },
  {
   "cell_type": "code",
   "execution_count": null,
   "metadata": {},
   "outputs": [],
   "source": [
    "thedfg.plot.scatter(x='clouds',y='mag',yerr='magerr',title='clouds vs mag for filter g',color='g',marker='o',grid=True)\n",
    "plt.plot(Xfit,Yfit,'r-')"
   ]
  },
  {
   "cell_type": "markdown",
   "metadata": {},
   "source": [
    "## The R filter\n",
    "## -----------"
   ]
  },
  {
   "cell_type": "code",
   "execution_count": null,
   "metadata": {},
   "outputs": [],
   "source": [
    "thedfr=thedf.loc[(thedf.f == 3)].drop('f', axis=1)"
   ]
  },
  {
   "cell_type": "code",
   "execution_count": null,
   "metadata": {},
   "outputs": [],
   "source": [
    "theX=thedfr[\"vaod\"].values\n",
    "theY=thedfr[\"mag\"].values\n",
    "theEY=thedfr[\"magerr\"].values\n",
    "thedfr.corr()"
   ]
  },
  {
   "cell_type": "code",
   "execution_count": null,
   "metadata": {},
   "outputs": [],
   "source": [
    "linregress(theX,theY)"
   ]
  },
  {
   "cell_type": "code",
   "execution_count": null,
   "metadata": {},
   "outputs": [],
   "source": [
    "theZ,theCov=np.polyfit(theX,theY,1,w=1/theEY,cov=True)\n",
    "pol = np.poly1d(theZ)\n",
    "Xfit=np.linspace(theX.min(),theX.max(),50)\n",
    "Yfit=pol(Xfit)"
   ]
  },
  {
   "cell_type": "code",
   "execution_count": null,
   "metadata": {},
   "outputs": [],
   "source": [
    "thedfr.plot.scatter(x='vaod',y='mag',yerr='magerr',title='vaod vs mag for filter r',color='r',marker='o',grid=True)\n",
    "plt.plot(Xfit,Yfit,'r-')"
   ]
  },
  {
   "cell_type": "code",
   "execution_count": null,
   "metadata": {},
   "outputs": [],
   "source": [
    "corr=thedfr.loc[(thedf.f == 3) ].corr()"
   ]
  },
  {
   "cell_type": "code",
   "execution_count": null,
   "metadata": {},
   "outputs": [],
   "source": [
    "#thedf.loc[(thedf.f == 3) ].plot.scatter(x='vaod',y='mag',yerr='magerr',title='vaod vs mag for filter r',color='r',marker='o',grid=True)"
   ]
  },
  {
   "cell_type": "code",
   "execution_count": null,
   "metadata": {},
   "outputs": [],
   "source": [
    "plt.figure(figsize=(8, 6))\n",
    "plt.imshow(corr, cmap='hot', interpolation='none', aspect='auto',vmin=-1,vmax=+1)\n",
    "plt.colorbar()\n",
    "plt.xticks(range(len(corr)), corr.columns, rotation='vertical')\n",
    "plt.yticks(range(len(corr)), corr.columns);\n",
    "plt.suptitle('Correlation Matrix in R filter', fontsize=15, fontweight='bold')\n",
    "plt.show()"
   ]
  },
  {
   "cell_type": "code",
   "execution_count": null,
   "metadata": {},
   "outputs": [],
   "source": [
    "theX=thedfr[\"clouds\"].values\n",
    "theY=thedfr[\"mag\"].values\n",
    "theEY=thedfr[\"magerr\"].values\n",
    "thedfr.corr()"
   ]
  },
  {
   "cell_type": "code",
   "execution_count": null,
   "metadata": {},
   "outputs": [],
   "source": [
    "linregress(theX,theY)"
   ]
  },
  {
   "cell_type": "code",
   "execution_count": null,
   "metadata": {},
   "outputs": [],
   "source": [
    "theZ,theCov=np.polyfit(theX,theY,1,w=1/theEY,cov=True)\n",
    "pol = np.poly1d(theZ)\n",
    "Xfit=np.linspace(theX.min(),theX.max(),50)\n",
    "Yfit=pol(Xfit)"
   ]
  },
  {
   "cell_type": "code",
   "execution_count": null,
   "metadata": {},
   "outputs": [],
   "source": [
    "thedfr.plot.scatter(x='clouds',y='mag',yerr='magerr',title='clouds vs mag for filter r',color='r',marker='o',grid=True)\n",
    "plt.plot(Xfit,Yfit,'r-')"
   ]
  },
  {
   "cell_type": "markdown",
   "metadata": {},
   "source": [
    "## Filter in I\n",
    "## ---------------------------------"
   ]
  },
  {
   "cell_type": "code",
   "execution_count": null,
   "metadata": {},
   "outputs": [],
   "source": [
    "thedfi=thedf.loc[(thedf.f == 4)].drop('f', axis=1)"
   ]
  },
  {
   "cell_type": "code",
   "execution_count": null,
   "metadata": {},
   "outputs": [],
   "source": [
    "theX=thedfi[\"vaod\"].values\n",
    "theY=thedfi[\"mag\"].values\n",
    "theEY=thedfi[\"magerr\"].values\n",
    "thedfi.corr()"
   ]
  },
  {
   "cell_type": "code",
   "execution_count": null,
   "metadata": {},
   "outputs": [],
   "source": [
    "linregress(theX,theY)"
   ]
  },
  {
   "cell_type": "code",
   "execution_count": null,
   "metadata": {},
   "outputs": [],
   "source": [
    "theZ,theCov=np.polyfit(theX,theY,1,w=1/theEY,cov=True)\n",
    "pol = np.poly1d(theZ)\n",
    "Xfit=np.linspace(theX.min(),theX.max(),50)\n",
    "Yfit=pol(Xfit)"
   ]
  },
  {
   "cell_type": "code",
   "execution_count": null,
   "metadata": {},
   "outputs": [],
   "source": [
    "thedfi.plot.scatter(x='vaod',y='mag',yerr='magerr',title='vaod vs mag for filter i',color='orange',marker='o',grid=True)\n",
    "plt.plot(Xfit,Yfit,'r-')"
   ]
  },
  {
   "cell_type": "code",
   "execution_count": null,
   "metadata": {},
   "outputs": [],
   "source": [
    "corr=thedfi.loc[(thedf.f == 4) ].corr()"
   ]
  },
  {
   "cell_type": "code",
   "execution_count": null,
   "metadata": {},
   "outputs": [],
   "source": [
    "plt.figure(figsize=(8, 6))\n",
    "plt.imshow(corr, cmap='hot', interpolation='none', aspect='auto',vmin=-1,vmax=+1)\n",
    "plt.colorbar()\n",
    "plt.xticks(range(len(corr)), corr.columns, rotation='vertical')\n",
    "plt.yticks(range(len(corr)), corr.columns);\n",
    "plt.suptitle('Correlation Matrix in I filter', fontsize=15, fontweight='bold')\n",
    "plt.show()"
   ]
  },
  {
   "cell_type": "code",
   "execution_count": null,
   "metadata": {},
   "outputs": [],
   "source": [
    "#thedf.loc[(thedf.f == 4) ].plot.scatter(x='vaod',y='mag',yerr='magerr',title='vaod vs mag for filter i',color='orange',marker='o',grid=True)"
   ]
  },
  {
   "cell_type": "code",
   "execution_count": null,
   "metadata": {},
   "outputs": [],
   "source": [
    "theX=thedfi[\"clouds\"].values\n",
    "theY=thedfi[\"mag\"].values\n",
    "theEY=thedfi[\"magerr\"].values\n",
    "thedfi.corr()"
   ]
  },
  {
   "cell_type": "code",
   "execution_count": null,
   "metadata": {},
   "outputs": [],
   "source": [
    "linregress(theX,theY)"
   ]
  },
  {
   "cell_type": "code",
   "execution_count": null,
   "metadata": {},
   "outputs": [],
   "source": [
    "theZ,theCov=np.polyfit(theX,theY,1,w=1/theEY,cov=True)\n",
    "pol = np.poly1d(theZ)\n",
    "Xfit=np.linspace(theX.min(),theX.max(),50)\n",
    "Yfit=pol(Xfit)"
   ]
  },
  {
   "cell_type": "code",
   "execution_count": null,
   "metadata": {},
   "outputs": [],
   "source": [
    "thedfi.plot.scatter(x='clouds',y='mag',yerr='magerr',title='clouds vs mag for filter i',color='orange',marker='o',grid=True)\n",
    "plt.plot(Xfit,Yfit,'r-')"
   ]
  },
  {
   "cell_type": "markdown",
   "metadata": {},
   "source": [
    "## Filter Z\n",
    "## ---------"
   ]
  },
  {
   "cell_type": "code",
   "execution_count": null,
   "metadata": {},
   "outputs": [],
   "source": [
    "thedfz=thedf.loc[(thedf.f == 5)].drop('f', axis=1)"
   ]
  },
  {
   "cell_type": "code",
   "execution_count": null,
   "metadata": {},
   "outputs": [],
   "source": [
    "theX=thedfz[\"vaod\"].values\n",
    "theY=thedfz[\"mag\"].values\n",
    "theEY=thedfz[\"magerr\"].values\n",
    "thedfz.corr()"
   ]
  },
  {
   "cell_type": "code",
   "execution_count": null,
   "metadata": {},
   "outputs": [],
   "source": [
    "linregress(theX,theY)"
   ]
  },
  {
   "cell_type": "code",
   "execution_count": null,
   "metadata": {},
   "outputs": [],
   "source": [
    "theZ,theCov=np.polyfit(theX,theY,1,w=1/theEY,cov=True)\n",
    "pol = np.poly1d(theZ)\n",
    "Xfit=np.linspace(theX.min(),theX.max(),50)\n",
    "Yfit=pol(Xfit)"
   ]
  },
  {
   "cell_type": "code",
   "execution_count": null,
   "metadata": {},
   "outputs": [],
   "source": [
    "thedfz.plot.scatter(x='vaod',y='mag',yerr='magerr',title='vaod vs mag for filter z',color='grey',marker='o',grid=True)\n",
    "plt.plot(Xfit,Yfit,'r-')"
   ]
  },
  {
   "cell_type": "code",
   "execution_count": null,
   "metadata": {},
   "outputs": [],
   "source": [
    "corr=thedfz.loc[(thedf.f == 5) ].corr()"
   ]
  },
  {
   "cell_type": "code",
   "execution_count": null,
   "metadata": {},
   "outputs": [],
   "source": [
    "plt.figure(figsize=(8, 6))\n",
    "plt.imshow(corr, cmap='hot', interpolation='none', aspect='auto',vmin=-1,vmax=+1)\n",
    "plt.colorbar()\n",
    "plt.xticks(range(len(corr)), corr.columns, rotation='vertical')\n",
    "plt.yticks(range(len(corr)), corr.columns);\n",
    "plt.suptitle('Correlation Matrix in Z filter', fontsize=15, fontweight='bold')\n",
    "plt.show()"
   ]
  },
  {
   "cell_type": "code",
   "execution_count": null,
   "metadata": {},
   "outputs": [],
   "source": [
    "#thedf.loc[(thedf.f == 5) ].plot.scatter(x='vaod',y='mag',yerr='magerr',title='vaod vs mag for filter z',color='grey',marker='o',grid=True)"
   ]
  },
  {
   "cell_type": "code",
   "execution_count": null,
   "metadata": {},
   "outputs": [],
   "source": [
    "theX=thedfz[\"clouds\"].values\n",
    "theY=thedfz[\"mag\"].values\n",
    "theEY=thedfz[\"magerr\"].values\n",
    "thedfz.corr()"
   ]
  },
  {
   "cell_type": "code",
   "execution_count": null,
   "metadata": {},
   "outputs": [],
   "source": [
    "linregress(theX,theY)"
   ]
  },
  {
   "cell_type": "code",
   "execution_count": null,
   "metadata": {},
   "outputs": [],
   "source": [
    "theZ,theCov=np.polyfit(theX,theY,1,w=1/theEY,cov=True)\n",
    "pol = np.poly1d(theZ)\n",
    "Xfit=np.linspace(theX.min(),theX.max(),50)\n",
    "Yfit=pol(Xfit)"
   ]
  },
  {
   "cell_type": "code",
   "execution_count": null,
   "metadata": {},
   "outputs": [],
   "source": [
    "thedfz.plot.scatter(x='clouds',y='mag',yerr='magerr',title='clouds vs mag for filter z',color='grey',marker='o',grid=True)\n",
    "plt.plot(Xfit,Yfit,'r-')"
   ]
  },
  {
   "cell_type": "markdown",
   "metadata": {},
   "source": [
    "## The Y filter"
   ]
  },
  {
   "cell_type": "code",
   "execution_count": null,
   "metadata": {},
   "outputs": [],
   "source": [
    "thedfy=thedf.loc[(thedf.f == 6)].drop('f', axis=1)"
   ]
  },
  {
   "cell_type": "code",
   "execution_count": null,
   "metadata": {},
   "outputs": [],
   "source": [
    "theX=thedfy[\"vaod\"].values\n",
    "theY=thedfy[\"mag\"].values\n",
    "theEY=thedfy[\"magerr\"].values\n",
    "thedfy.corr()"
   ]
  },
  {
   "cell_type": "code",
   "execution_count": null,
   "metadata": {},
   "outputs": [],
   "source": [
    "linregress(theX,theY)"
   ]
  },
  {
   "cell_type": "code",
   "execution_count": null,
   "metadata": {},
   "outputs": [],
   "source": [
    "theZ,theCov=np.polyfit(theX,theY,1,w=1/theEY,cov=True)\n",
    "pol = np.poly1d(theZ)\n",
    "Xfit=np.linspace(theX.min(),theX.max(),50)\n",
    "Yfit=pol(Xfit)"
   ]
  },
  {
   "cell_type": "code",
   "execution_count": null,
   "metadata": {},
   "outputs": [],
   "source": [
    "thedfy.plot.scatter(x='vaod',y='mag',yerr='magerr',title='vaod vs mag for filter y',color='black',marker='o',grid=True)\n",
    "plt.plot(Xfit,Yfit,'r-')"
   ]
  },
  {
   "cell_type": "code",
   "execution_count": null,
   "metadata": {},
   "outputs": [],
   "source": [
    "corr=thedfy.loc[(thedf.f == 6) ].corr()"
   ]
  },
  {
   "cell_type": "code",
   "execution_count": null,
   "metadata": {},
   "outputs": [],
   "source": [
    "plt.figure(figsize=(8, 6))\n",
    "plt.imshow(corr, cmap='hot', interpolation='none', aspect='auto',vmin=-1,vmax=+1)\n",
    "plt.colorbar()\n",
    "plt.xticks(range(len(corr)), corr.columns, rotation='vertical')\n",
    "plt.yticks(range(len(corr)), corr.columns);\n",
    "plt.suptitle('Correlation Matrix in Y filter', fontsize=15, fontweight='bold')\n",
    "plt.show()"
   ]
  },
  {
   "cell_type": "code",
   "execution_count": null,
   "metadata": {},
   "outputs": [],
   "source": [
    "#thedf.loc[(thedf.f == 6) ].plot.scatter(x='vaod',y='mag',yerr='magerr',title='vaod vs mag for filter y',color='black',marker='o',grid=True)"
   ]
  },
  {
   "cell_type": "code",
   "execution_count": null,
   "metadata": {},
   "outputs": [],
   "source": [
    "theX=thedfy[\"pwv\"].values\n",
    "theY=thedfy[\"mag\"].values\n",
    "theEY=thedfy[\"magerr\"].values\n",
    "thedfy.corr()"
   ]
  },
  {
   "cell_type": "code",
   "execution_count": null,
   "metadata": {},
   "outputs": [],
   "source": [
    "linregress(theX,theY)"
   ]
  },
  {
   "cell_type": "code",
   "execution_count": null,
   "metadata": {},
   "outputs": [],
   "source": [
    "theZ,theCov=np.polyfit(theX,theY,1,w=1/theEY,cov=True)\n",
    "pol = np.poly1d(theZ)\n",
    "Xfit=np.linspace(theX.min(),theX.max(),50)\n",
    "Yfit=pol(Xfit)"
   ]
  },
  {
   "cell_type": "code",
   "execution_count": null,
   "metadata": {},
   "outputs": [],
   "source": [
    "thedfy.plot.scatter(x='pwv',y='mag',yerr='magerr',title='pwv vs mag for filter y',color='black',marker='o',grid=True)\n",
    "plt.plot(Xfit,Yfit,'r-')"
   ]
  },
  {
   "cell_type": "code",
   "execution_count": null,
   "metadata": {},
   "outputs": [],
   "source": [
    "theX=thedfy[\"clouds\"].values\n",
    "theY=thedfy[\"mag\"].values\n",
    "theEY=thedfy[\"magerr\"].values\n",
    "thedfy.corr()"
   ]
  },
  {
   "cell_type": "code",
   "execution_count": null,
   "metadata": {},
   "outputs": [],
   "source": [
    "linregress(theX,theY)"
   ]
  },
  {
   "cell_type": "code",
   "execution_count": null,
   "metadata": {},
   "outputs": [],
   "source": [
    "theZ,theCov=np.polyfit(theX,theY,1,w=1/theEY,cov=True)\n",
    "pol = np.poly1d(theZ)\n",
    "Xfit=np.linspace(theX.min(),theX.max(),50)\n",
    "Yfit=pol(Xfit)"
   ]
  },
  {
   "cell_type": "code",
   "execution_count": null,
   "metadata": {},
   "outputs": [],
   "source": [
    "thedfy.plot.scatter(x='clouds',y='mag',yerr='magerr',title='clouds vs mag for filter y',color='black',marker='o',grid=True)\n",
    "plt.plot(Xfit,Yfit,'r-')"
   ]
  },
  {
   "cell_type": "markdown",
   "metadata": {},
   "source": [
    "# Plot VAOD vs Magnitude"
   ]
  },
  {
   "cell_type": "code",
   "execution_count": null,
   "metadata": {},
   "outputs": [],
   "source": [
    "thedfu=thedf.loc[(thedf.f == 1)].drop('f', axis=1)"
   ]
  },
  {
   "cell_type": "code",
   "execution_count": null,
   "metadata": {},
   "outputs": [],
   "source": [
    "dfu=dft.loc[(dft.f == 1) & (dft.mag < -11 )].drop('f', axis=1)"
   ]
  },
  {
   "cell_type": "code",
   "execution_count": null,
   "metadata": {},
   "outputs": [],
   "source": [
    "theX=dfu[\"vaod\"].values\n",
    "theY=dfu[\"mag\"].values\n",
    "theEY=dfu[\"magerr\"].values\n",
    "dfu.corr()"
   ]
  },
  {
   "cell_type": "code",
   "execution_count": null,
   "metadata": {},
   "outputs": [],
   "source": [
    "theZ,theCov=np.polyfit(theX,theY,1,w=1/theEY,cov=True)\n",
    "pol = np.poly1d(theZ)\n",
    "Xfit=np.linspace(theX.min(),theX.max(),50)\n",
    "Yfit=pol(Xfit)"
   ]
  },
  {
   "cell_type": "code",
   "execution_count": null,
   "metadata": {},
   "outputs": [],
   "source": [
    "dfu.plot.scatter(x='vaod',y='mag',yerr='magerr',title='vaod vs mag for filter u',color='b',marker='o',grid=True)\n",
    "plt.plot(Xfit,Yfit,'r-')"
   ]
  },
  {
   "cell_type": "code",
   "execution_count": null,
   "metadata": {},
   "outputs": [],
   "source": [
    "corr=dfu.loc[(thedf.f == 1) ].corr()"
   ]
  },
  {
   "cell_type": "code",
   "execution_count": null,
   "metadata": {},
   "outputs": [],
   "source": [
    "plt.figure(figsize=(8, 6))\n",
    "plt.imshow(corr, cmap='hot', interpolation='none', aspect='auto',vmin=-1,vmax=+1)\n",
    "plt.colorbar()\n",
    "plt.xticks(range(len(corr)), corr.columns, rotation='vertical')\n",
    "plt.yticks(range(len(corr)), corr.columns);\n",
    "plt.suptitle('Correlation Matrix un U filter', fontsize=15, fontweight='bold')\n",
    "plt.show()"
   ]
  },
  {
   "cell_type": "code",
   "execution_count": null,
   "metadata": {},
   "outputs": [],
   "source": []
  },
  {
   "cell_type": "code",
   "execution_count": null,
   "metadata": {},
   "outputs": [],
   "source": [
    "dft.loc[(dft.f == 1) & (dft.mag < -11 )].plot.scatter(x='mag',y='vaod',title='vaod vs mag for filter u',color='b',marker='.',grid=True)"
   ]
  },
  {
   "cell_type": "code",
   "execution_count": null,
   "metadata": {},
   "outputs": [],
   "source": []
  },
  {
   "cell_type": "code",
   "execution_count": null,
   "metadata": {},
   "outputs": [],
   "source": [
    "dft.loc[(dft.f == 2) & (dft.mag<-14)].plot.scatter(x='mag',y='vaod',title='vaod vs mag for filter g',color='g',marker='.',grid=True)"
   ]
  },
  {
   "cell_type": "code",
   "execution_count": null,
   "metadata": {},
   "outputs": [],
   "source": [
    "dft.loc[(dft.f == 3) & (dft.mag<-14)].plot.scatter(x='mag',y='vaod',title='vaod vs mag for filter r',color='r',marker='.',grid=True)"
   ]
  },
  {
   "cell_type": "code",
   "execution_count": null,
   "metadata": {},
   "outputs": [],
   "source": [
    "dft.loc[(dft.f == 4)& (dft.mag<-14)].plot.scatter(x='mag',y='vaod',title='vaod vs mag for filter i',color='orange',marker='.',grid=True)"
   ]
  },
  {
   "cell_type": "code",
   "execution_count": null,
   "metadata": {},
   "outputs": [],
   "source": [
    "dft.loc[(dft.f == 5) & (dft.mag<-14)].plot.scatter(x='mag',y='vaod',title='vaod vs mag for filter z',color='grey',marker='.',grid=True)"
   ]
  },
  {
   "cell_type": "code",
   "execution_count": null,
   "metadata": {},
   "outputs": [],
   "source": [
    "dft.loc[(dft.f == 6) & (dft.mag<-14)].plot.scatter(x='mag',y='vaod',title='vaod vs mag for filter Y',color='k',marker='.',grid=True)"
   ]
  },
  {
   "cell_type": "markdown",
   "metadata": {},
   "source": [
    "# Effect of Precipitable water vapor"
   ]
  },
  {
   "cell_type": "code",
   "execution_count": null,
   "metadata": {},
   "outputs": [],
   "source": [
    "dft.loc[(dft.f == 6) & (dft.mag<-14)].plot.scatter(x='mag',y='pwv',title='pwv vs mag for filter Y',color='k',marker='.',grid=True)"
   ]
  },
  {
   "cell_type": "code",
   "execution_count": null,
   "metadata": {},
   "outputs": [],
   "source": []
  }
 ],
 "metadata": {
  "kernelspec": {
   "display_name": "Python 3",
   "language": "python",
   "name": "python3"
  },
  "language_info": {
   "codemirror_mode": {
    "name": "ipython",
    "version": 3
   },
   "file_extension": ".py",
   "mimetype": "text/x-python",
   "name": "python",
   "nbconvert_exporter": "python",
   "pygments_lexer": "ipython3",
   "version": "3.6.2"
  }
 },
 "nbformat": 4,
 "nbformat_minor": 2
}
