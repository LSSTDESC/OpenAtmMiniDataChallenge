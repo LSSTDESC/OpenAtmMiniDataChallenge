{
 "cells": [
  {
   "cell_type": "code",
   "execution_count": 35,
   "metadata": {},
   "outputs": [
    {
     "name": "stdout",
     "output_type": "stream",
     "text": [
      "The autoreload extension is already loaded. To reload it, use:\n",
      "  %reload_ext autoreload\n"
     ]
    }
   ],
   "source": [
    "%load_ext autoreload\n",
    "%autoreload 2"
   ]
  },
  {
   "cell_type": "code",
   "execution_count": 36,
   "metadata": {},
   "outputs": [],
   "source": [
    "import matplotlib.pyplot as plt\n",
    "import matplotlib.colors as colors\n",
    "from matplotlib import colors, ticker, cm   \n",
    "import matplotlib.cm as cmx\n",
    "%matplotlib inline\n",
    "import sys\n",
    "import os\n",
    "import pandas as pd\n",
    "import glob\n",
    "from matplotlib.backends.backend_pdf import PdfPages "
   ]
  },
  {
   "cell_type": "code",
   "execution_count": 51,
   "metadata": {},
   "outputs": [],
   "source": [
    "from scipy.interpolate import interp1d\n",
    "from astropy.io import fits"
   ]
  },
  {
   "cell_type": "code",
   "execution_count": 38,
   "metadata": {},
   "outputs": [],
   "source": [
    "# to enlarge the sizes\n",
    "params = {'legend.fontsize': 'x-large',\n",
    "          'figure.figsize': (15, 10),   #defines the default image size\n",
    "         'axes.labelsize': 'x-large',\n",
    "         'axes.titlesize':'x-large',\n",
    "         'xtick.labelsize':'x-large',\n",
    "         'ytick.labelsize':'x-large'}\n",
    "plt.rcParams.update(params)"
   ]
  },
  {
   "cell_type": "code",
   "execution_count": 39,
   "metadata": {},
   "outputs": [],
   "source": [
    "from Telescope import *\n",
    "from Throughputs import *"
   ]
  },
  {
   "cell_type": "code",
   "execution_count": 40,
   "metadata": {},
   "outputs": [],
   "source": [
    "from lsst.sims.photUtils import SignalToNoise\n",
    "from lsst.sims.photUtils import PhotometricParameters\n",
    "from lsst.sims.photUtils import Bandpass,Sed"
   ]
  },
  {
   "cell_type": "code",
   "execution_count": 41,
   "metadata": {},
   "outputs": [
    {
     "name": "stdout",
     "output_type": "stream",
     "text": [
      "Telescope:ZP_filtre ==> hello Cte= 5326.68735237  Diam =  6.423  h= 6.62607004e-34  exp= 15.0\n",
      "Telescope:ZP_filtre ==> hello Cte= 5326.68735237  Diam =  6.423  h= 6.62607004e-34  exp= 15.0\n",
      "Telescope:ZP_filtre ==> hello Cte= 5326.68735237  Diam =  6.423  h= 6.62607004e-34  exp= 15.0\n",
      "Telescope:ZP_filtre ==> hello Cte= 5326.68735237  Diam =  6.423  h= 6.62607004e-34  exp= 15.0\n",
      "Telescope:ZP_filtre ==> hello Cte= 5326.68735237  Diam =  6.423  h= 6.62607004e-34  exp= 15.0\n",
      "Telescope:ZP_filtre ==> hello Cte= 5326.68735237  Diam =  6.423  h= 6.62607004e-34  exp= 15.0\n",
      "Telescope:ZP ==> zeropoints {'u': 26.568808659711557, 'g': 28.354318973347311, 'r': 28.164621348129035, 'i': 27.822281167154159, 'z': 27.428430965039809, 'y': 26.60922520603166} {'u': 146.54784684629368, 'g': 113.3120538362018, 'r': 106.06362523506563, 'i': 103.82733449370409, 'z': 101.60555027615993, 'y': 112.48554270045459}\n"
     ]
    }
   ],
   "source": [
    "tel=Telescope(airmass=1,aerosol=False)"
   ]
  },
  {
   "cell_type": "markdown",
   "metadata": {},
   "source": [
    "# Get SED"
   ]
  },
  {
   "cell_type": "code",
   "execution_count": 53,
   "metadata": {},
   "outputs": [],
   "source": [
    "input_fits='../regenerated_sedgrid_pickle_uvi.fits'"
   ]
  },
  {
   "cell_type": "code",
   "execution_count": 55,
   "metadata": {},
   "outputs": [],
   "source": [
    "hdul = fits.open(input_fits)"
   ]
  },
  {
   "cell_type": "code",
   "execution_count": 56,
   "metadata": {},
   "outputs": [
    {
     "data": {
      "text/plain": [
       "SIMPLE  =                    T / conforms to FITS standard                      \n",
       "BITPIX  =                  -64 / array data type                                \n",
       "NAXIS   =                    2 / number of array dimensions                     \n",
       "NAXIS1  =                 8005                                                  \n",
       "NAXIS2  =                12963                                                  \n",
       "NBSED   =                12962                                                  \n",
       "NBWLBIN =                 8000                                                  \n",
       "WLMIN   =               3000.0                                                  \n",
       "WLMAX   =              11000.0                                                  \n",
       "WLBINWDT=                  1.0                                                  \n",
       "SEDUNIT = 'FLAM    '                                                            \n",
       "SEDMODEL= 'pickle_uvi'                                                          \n",
       "IDX_NUM =                    0                                                  \n",
       "IDX_VAL =                    1                                                  \n",
       "IDX_SED =                    2                                                  \n",
       "IDX_DATA=                    3                                                  \n",
       "IDX_SPEC=                    5                                                  "
      ]
     },
     "execution_count": 56,
     "metadata": {},
     "output_type": "execute_result"
    }
   ],
   "source": [
    "hdr=hdul[0].header\n",
    "hdr"
   ]
  },
  {
   "cell_type": "code",
   "execution_count": 57,
   "metadata": {},
   "outputs": [],
   "source": [
    "index_num=hdr[\"IDX_NUM\"]\n",
    "index_val=hdr[\"IDX_VAL\"]\n",
    "#index_temp=hdr[\"IDX_TEMP\"]\n",
    "#index_logg=hdr[\"IDX_LOGG\"]\n",
    "#index_logz=hdr[\"IDX_LOGZ\"]\n",
    "index_spec=hdr[\"IDX_SPEC\"]\n",
    "#index_mag=hdr[\"IDX_MAG\"]"
   ]
  },
  {
   "cell_type": "code",
   "execution_count": 58,
   "metadata": {},
   "outputs": [],
   "source": [
    "data = hdul[0].data"
   ]
  },
  {
   "cell_type": "code",
   "execution_count": 59,
   "metadata": {},
   "outputs": [
    {
     "data": {
      "text/plain": [
       "(12963, 8005)"
      ]
     },
     "execution_count": 59,
     "metadata": {},
     "output_type": "execute_result"
    }
   ],
   "source": [
    "data.shape"
   ]
  },
  {
   "cell_type": "code",
   "execution_count": 60,
   "metadata": {},
   "outputs": [],
   "source": [
    "idx=0"
   ]
  },
  {
   "cell_type": "code",
   "execution_count": 61,
   "metadata": {},
   "outputs": [],
   "source": [
    "wl=data[0,index_spec:]\n",
    "flux=data[1+idx,index_spec:]"
   ]
  },
  {
   "cell_type": "code",
   "execution_count": 65,
   "metadata": {},
   "outputs": [
    {
     "data": {
      "image/png": "[encoded data removed]",
      "text/plain": [
       "<matplotlib.figure.Figure at 0x7f8fe2887048>"
      ]
     },
     "metadata": {},
     "output_type": "display_data"
    }
   ],
   "source": [
    "plt.figure(figsize=(8,5))\n",
    "plt.plot(wl/10,flux*10)\n",
    "plt.grid(True)"
   ]
  },
  {
   "cell_type": "code",
   "execution_count": null,
   "metadata": {},
   "outputs": [],
   "source": []
  },
  {
   "cell_type": "code",
   "execution_count": null,
   "metadata": {},
   "outputs": [],
   "source": []
  },
  {
   "cell_type": "code",
   "execution_count": null,
   "metadata": {},
   "outputs": [],
   "source": []
  },
  {
   "cell_type": "code",
   "execution_count": null,
   "metadata": {},
   "outputs": [],
   "source": []
  },
  {
   "cell_type": "code",
   "execution_count": null,
   "metadata": {},
   "outputs": [],
   "source": [
    "\n"
   ]
  },
  {
   "cell_type": "code",
   "execution_count": 66,
   "metadata": {},
   "outputs": [
    {
     "data": {
      "text/plain": [
       "['__class__',\n",
       " '__delattr__',\n",
       " '__dict__',\n",
       " '__dir__',\n",
       " '__doc__',\n",
       " '__eq__',\n",
       " '__format__',\n",
       " '__ge__',\n",
       " '__getattribute__',\n",
       " '__gt__',\n",
       " '__hash__',\n",
       " '__init__',\n",
       " '__init_subclass__',\n",
       " '__le__',\n",
       " '__lt__',\n",
       " '__module__',\n",
       " '__ne__',\n",
       " '__new__',\n",
       " '__reduce__',\n",
       " '__reduce_ex__',\n",
       " '__repr__',\n",
       " '__setattr__',\n",
       " '__sizeof__',\n",
       " '__str__',\n",
       " '__subclasshook__',\n",
       " '__weakref__',\n",
       " '_checkUseSelf',\n",
       " '_needResample',\n",
       " 'addCCMDust',\n",
       " 'calcADU',\n",
       " 'calcErgs',\n",
       " 'calcFlux',\n",
       " 'calcFluxNorm',\n",
       " 'calcMag',\n",
       " 'clearSED',\n",
       " 'flambdaTofnu',\n",
       " 'fluxFromMag',\n",
       " 'fnuToflambda',\n",
       " 'getSED_flambda',\n",
       " 'getSED_fnu',\n",
       " 'magFromFlux',\n",
       " 'manyFluxCalc',\n",
       " 'manyMagCalc',\n",
       " 'multiplyFluxNorm',\n",
       " 'multiplySED',\n",
       " 'readSED_flambda',\n",
       " 'readSED_fnu',\n",
       " 'redshiftSED',\n",
       " 'renormalizeSED',\n",
       " 'resampleSED',\n",
       " 'setFlatSED',\n",
       " 'setSED',\n",
       " 'setupCCMab',\n",
       " 'setupPhiArray',\n",
       " 'synchronizeSED',\n",
       " 'writeSED']"
      ]
     },
     "execution_count": 66,
     "metadata": {},
     "output_type": "execute_result"
    }
   ],
   "source": [
    "dir(Sed)"
   ]
  },
  {
   "cell_type": "code",
   "execution_count": 75,
   "metadata": {},
   "outputs": [],
   "source": [
    "mysed=Sed()\n",
    "mysed.setSED(wavelen=wl/10,flambda=flux*10)"
   ]
  },
  {
   "cell_type": "code",
   "execution_count": 79,
   "metadata": {},
   "outputs": [
    {
     "ename": "TypeError",
     "evalue": "calcADU() missing 2 required positional arguments: 'bandpass' and 'photParams'",
     "output_type": "error",
     "traceback": [
      "\u001b[0;31m\u001b[0m",
      "\u001b[0;31mTypeError\u001b[0mTraceback (most recent call last)",
      "\u001b[0;32m<ipython-input-79-0a38f89d03cb>\u001b[0m in \u001b[0;36m<module>\u001b[0;34m()\u001b[0m\n\u001b[0;32m----> 1\u001b[0;31m \u001b[0mmysed\u001b[0m\u001b[0;34m.\u001b[0m\u001b[0mcalcADU\u001b[0m\u001b[0;34m(\u001b[0m\u001b[0;34m)\u001b[0m\u001b[0;34m\u001b[0m\u001b[0m\n\u001b[0m",
      "\u001b[0;31mTypeError\u001b[0m: calcADU() missing 2 required positional arguments: 'bandpass' and 'photParams'"
     ]
    }
   ],
   "source": [
    "mysed.calcADU()\n"
   ]
  },
  {
   "cell_type": "code",
   "execution_count": 77,
   "metadata": {},
   "outputs": [
    {
     "data": {
      "text/plain": [
       "\u001b[0;31mInit signature:\u001b[0m \u001b[0mSed\u001b[0m\u001b[0;34m(\u001b[0m\u001b[0mwavelen\u001b[0m\u001b[0;34m=\u001b[0m\u001b[0;32mNone\u001b[0m\u001b[0;34m,\u001b[0m \u001b[0mflambda\u001b[0m\u001b[0;34m=\u001b[0m\u001b[0;32mNone\u001b[0m\u001b[0;34m,\u001b[0m \u001b[0mfnu\u001b[0m\u001b[0;34m=\u001b[0m\u001b[0;32mNone\u001b[0m\u001b[0;34m,\u001b[0m \u001b[0mbadval\u001b[0m\u001b[0;34m=\u001b[0m\u001b[0mnan\u001b[0m\u001b[0;34m,\u001b[0m \u001b[0mname\u001b[0m\u001b[0;34m=\u001b[0m\u001b[0;32mNone\u001b[0m\u001b[0;34m)\u001b[0m\u001b[0;34m\u001b[0m\u001b[0m\n",
       "\u001b[0;31mDocstring:\u001b[0m      Class for holding and utilizing spectral energy distributions (SEDs)\n",
       "\u001b[0;31mInit docstring:\u001b[0m\n",
       "Initialize sed object by giving filename or lambda/flambda array.\n",
       "\n",
       "Note that this does *not* regrid flambda and leaves fnu undefined.\n",
       "\u001b[0;31mFile:\u001b[0m           /sps/lsst/software/lsst_sims/sims_2_7_0/stack/miniconda3-4.3.21-10a4fa6/Linux64/sims_photUtils/2.7.0.sims/python/lsst/sims/photUtils/Sed.py\n",
       "\u001b[0;31mType:\u001b[0m           type\n"
      ]
     },
     "metadata": {},
     "output_type": "display_data"
    }
   ],
   "source": [
    "?Sed"
   ]
  },
  {
   "cell_type": "code",
   "execution_count": 78,
   "metadata": {},
   "outputs": [
    {
     "data": {
      "text/plain": [
       "['__class__',\n",
       " '__delattr__',\n",
       " '__dict__',\n",
       " '__dir__',\n",
       " '__doc__',\n",
       " '__eq__',\n",
       " '__format__',\n",
       " '__ge__',\n",
       " '__getattribute__',\n",
       " '__gt__',\n",
       " '__hash__',\n",
       " '__init__',\n",
       " '__init_subclass__',\n",
       " '__le__',\n",
       " '__lt__',\n",
       " '__module__',\n",
       " '__ne__',\n",
       " '__new__',\n",
       " '__reduce__',\n",
       " '__reduce_ex__',\n",
       " '__repr__',\n",
       " '__setattr__',\n",
       " '__sizeof__',\n",
       " '__str__',\n",
       " '__subclasshook__',\n",
       " '__weakref__',\n",
       " '_checkUseSelf',\n",
       " '_needResample',\n",
       " 'addCCMDust',\n",
       " 'calcADU',\n",
       " 'calcErgs',\n",
       " 'calcFlux',\n",
       " 'calcFluxNorm',\n",
       " 'calcMag',\n",
       " 'clearSED',\n",
       " 'flambdaTofnu',\n",
       " 'fluxFromMag',\n",
       " 'fnuToflambda',\n",
       " 'getSED_flambda',\n",
       " 'getSED_fnu',\n",
       " 'magFromFlux',\n",
       " 'manyFluxCalc',\n",
       " 'manyMagCalc',\n",
       " 'multiplyFluxNorm',\n",
       " 'multiplySED',\n",
       " 'readSED_flambda',\n",
       " 'readSED_fnu',\n",
       " 'redshiftSED',\n",
       " 'renormalizeSED',\n",
       " 'resampleSED',\n",
       " 'setFlatSED',\n",
       " 'setSED',\n",
       " 'setupCCMab',\n",
       " 'setupPhiArray',\n",
       " 'synchronizeSED',\n",
       " 'writeSED']"
      ]
     },
     "execution_count": 78,
     "metadata": {},
     "output_type": "execute_result"
    }
   ],
   "source": [
    "dir(Sed)"
   ]
  },
  {
   "cell_type": "code",
   "execution_count": null,
   "metadata": {},
   "outputs": [],
   "source": []
  }
 ],
 "metadata": {
  "kernelspec": {
   "display_name": "Python 3",
   "language": "python",
   "name": "python3"
  },
  "language_info": {
   "codemirror_mode": {
    "name": "ipython",
    "version": 3
   },
   "file_extension": ".py",
   "mimetype": "text/x-python",
   "name": "python",
   "nbconvert_exporter": "python",
   "pygments_lexer": "ipython3",
   "version": "3.6.2"
  }
 },
 "nbformat": 4,
 "nbformat_minor": 2
}
