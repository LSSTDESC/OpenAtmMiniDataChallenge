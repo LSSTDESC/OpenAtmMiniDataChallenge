{
 "cells": [
  {
   "cell_type": "code",
   "execution_count": 28,
   "metadata": {},
   "outputs": [
    {
     "name": "stdout",
     "output_type": "stream",
     "text": [
      "The autoreload extension is already loaded. To reload it, use:\n",
      "  %reload_ext autoreload\n"
     ]
    }
   ],
   "source": [
    "%load_ext autoreload\n",
    "%autoreload 2"
   ]
  },
  {
   "cell_type": "code",
   "execution_count": 29,
   "metadata": {},
   "outputs": [],
   "source": [
    "import matplotlib.pyplot as plt\n",
    "import matplotlib.colors as colors\n",
    "from matplotlib import colors, ticker, cm   \n",
    "import matplotlib.cm as cmx\n",
    "%matplotlib inline\n",
    "import sys\n",
    "import os\n",
    "import pandas as pd\n",
    "import glob\n",
    "from matplotlib.backends.backend_pdf import PdfPages "
   ]
  },
  {
   "cell_type": "code",
   "execution_count": 30,
   "metadata": {},
   "outputs": [],
   "source": [
    "from scipy.interpolate import interp1d"
   ]
  },
  {
   "cell_type": "code",
   "execution_count": 31,
   "metadata": {},
   "outputs": [],
   "source": [
    "# to enlarge the sizes\n",
    "params = {'legend.fontsize': 'x-large',\n",
    "          'figure.figsize': (15, 10),   #defines the default image size\n",
    "         'axes.labelsize': 'x-large',\n",
    "         'axes.titlesize':'x-large',\n",
    "         'xtick.labelsize':'x-large',\n",
    "         'ytick.labelsize':'x-large'}\n",
    "plt.rcParams.update(params)"
   ]
  },
  {
   "cell_type": "code",
   "execution_count": 32,
   "metadata": {},
   "outputs": [],
   "source": [
    "from Telescope import *\n",
    "from Throughputs import *"
   ]
  },
  {
   "cell_type": "code",
   "execution_count": 33,
   "metadata": {},
   "outputs": [
    {
     "name": "stdout",
     "output_type": "stream",
     "text": [
      "Telescope:ZP_filtre ==> hello Cte= 5326.68735237  Diam =  6.423  h= 6.62607004e-34  exp= 15.0\n",
      "Telescope:ZP_filtre ==> hello Cte= 5326.68735237  Diam =  6.423  h= 6.62607004e-34  exp= 15.0\n",
      "Telescope:ZP_filtre ==> hello Cte= 5326.68735237  Diam =  6.423  h= 6.62607004e-34  exp= 15.0\n",
      "Telescope:ZP_filtre ==> hello Cte= 5326.68735237  Diam =  6.423  h= 6.62607004e-34  exp= 15.0\n",
      "Telescope:ZP_filtre ==> hello Cte= 5326.68735237  Diam =  6.423  h= 6.62607004e-34  exp= 15.0\n",
      "Telescope:ZP_filtre ==> hello Cte= 5326.68735237  Diam =  6.423  h= 6.62607004e-34  exp= 15.0\n",
      "Telescope:ZP ==> zeropoints {'u': 26.568808659711557, 'g': 28.354318973347311, 'r': 28.164621348129035, 'i': 27.822281167154159, 'z': 27.428430965039809, 'y': 26.60922520603166} {'u': 146.54784684629368, 'g': 113.3120538362018, 'r': 106.06362523506563, 'i': 103.82733449370409, 'z': 101.60555027615993, 'y': 112.48554270045459}\n"
     ]
    }
   ],
   "source": [
    "tel=Telescope(airmass=1,aerosol=False)"
   ]
  },
  {
   "cell_type": "code",
   "execution_count": null,
   "metadata": {},
   "outputs": [],
   "source": []
  }
 ],
 "metadata": {
  "kernelspec": {
   "display_name": "Python 3",
   "language": "python",
   "name": "python3"
  },
  "language_info": {
   "codemirror_mode": {
    "name": "ipython",
    "version": 3
   },
   "file_extension": ".py",
   "mimetype": "text/x-python",
   "name": "python",
   "nbconvert_exporter": "python",
   "pygments_lexer": "ipython3",
   "version": "3.6.2"
  }
 },
 "nbformat": 4,
 "nbformat_minor": 2
}
